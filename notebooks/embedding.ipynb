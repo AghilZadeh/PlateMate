{
 "cells": [
  {
   "cell_type": "code",
   "execution_count": 43,
   "metadata": {},
   "outputs": [],
   "source": [
    "import json\n",
    "import numpy as np\n",
    "import pandas as pd\n",
    "import re"
   ]
  },
  {
   "cell_type": "code",
   "execution_count": 35,
   "metadata": {},
   "outputs": [],
   "source": [
    "with open('../data/embedding_v1.2_short.json', 'r') as f:\n",
    "    embeddings = json.load(f)"
   ]
  },
  {
   "cell_type": "code",
   "execution_count": 36,
   "metadata": {},
   "outputs": [],
   "source": [
    "df = pd.read_csv('../data/recipes_selected_summarized.csv', index_col='RecipeId')"
   ]
  },
  {
   "cell_type": "code",
   "execution_count": 56,
   "metadata": {},
   "outputs": [],
   "source": [
    "def calc_similarity(query_emb, embeddings):\n",
    "    \"\"\"\n",
    "    Input:\n",
    "        query_emb: a list representing a query embedding\n",
    "        embeddings: a matrix with rows being embedding for an object\n",
    "    Output:\n",
    "        returns a list of size number of rows of embeddings, \n",
    "        such that each element is cosine similarity of query and a row in embeddings\n",
    "    \"\"\"\n",
    "    if isinstance(embeddings, dict):\n",
    "        # change it to numpy array\n",
    "        emb_keys = list(embeddings.keys())\n",
    "        embeddings = np.array([embeddings[k] for k in emb_keys])\n",
    "    similarity = [np.dot(row, query_emb) for row in embeddings]\n",
    "    \n",
    "    # sorting values based on the similarity\n",
    "    emb_keys = [k for _, k in sorted(zip(similarity, emb_keys), reverse=True)]\n",
    "    similarity = sorted(similarity, reverse=True)\n",
    "\n",
    "    return emb_keys, similarity\n",
    "\n",
    "def str2list(s: str) -> list:\n",
    "    'returns a list of strings breaking the original string by \"\" '\n",
    "    return re.findall(r'\"(.*?)\"', s)\n",
    "\n",
    "def printkwords(id):\n",
    "\n",
    "    id = int(id)\n",
    "    kwords = str2list(df.loc[id, 'Keywords'])\n",
    "    print('RecipeId:', id)\n",
    "    print('num keywords:', len(kwords))\n",
    "    print(kwords)\n",
    "    "
   ]
  },
  {
   "cell_type": "code",
   "execution_count": 57,
   "metadata": {},
   "outputs": [
    {
     "name": "stdout",
     "output_type": "stream",
     "text": [
      "RecipeId: 45809\n",
      "num keywords: 9\n",
      "['Chicken', 'Poultry', 'Meat', 'Chinese', 'Asian', 'High Protein', 'High In...', '< 60 Mins', 'Easy']\n"
     ]
    }
   ],
   "source": [
    "printkwords(45809)"
   ]
  },
  {
   "cell_type": "code",
   "execution_count": 54,
   "metadata": {},
   "outputs": [],
   "source": [
    "emb_keys, similarity = calc_similarity(embeddings[str(id)], embeddings)"
   ]
  },
  {
   "cell_type": "code",
   "execution_count": 63,
   "metadata": {},
   "outputs": [
    {
     "name": "stdout",
     "output_type": "stream",
     "text": [
      "RecipeId: 277167\n",
      "num keywords: 5\n",
      "['Poultry', 'Meat', 'High Protein', 'High In...', 'Easy']\n"
     ]
    }
   ],
   "source": [
    "printkwords(emb_keys[10])"
   ]
  },
  {
   "cell_type": "code",
   "execution_count": null,
   "metadata": {},
   "outputs": [],
   "source": []
  }
 ],
 "metadata": {
  "kernelspec": {
   "display_name": "dsml-project-1",
   "language": "python",
   "name": "python3"
  },
  "language_info": {
   "codemirror_mode": {
    "name": "ipython",
    "version": 3
   },
   "file_extension": ".py",
   "mimetype": "text/x-python",
   "name": "python",
   "nbconvert_exporter": "python",
   "pygments_lexer": "ipython3",
   "version": "3.11.3"
  },
  "orig_nbformat": 4
 },
 "nbformat": 4,
 "nbformat_minor": 2
}
