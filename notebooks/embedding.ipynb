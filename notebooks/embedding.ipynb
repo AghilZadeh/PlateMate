{
 "cells": [
  {
   "cell_type": "code",
   "execution_count": 1,
   "metadata": {},
   "outputs": [],
   "source": [
    "import json\n",
    "import numpy as np"
   ]
  },
  {
   "cell_type": "code",
   "execution_count": 13,
   "metadata": {},
   "outputs": [],
   "source": [
    "with open('../data/embedding_v1.json', 'r') as f:\n",
    "    embeddings = json.load(f)"
   ]
  },
  {
   "cell_type": "code",
   "execution_count": null,
   "metadata": {},
   "outputs": [],
   "source": []
  },
  {
   "cell_type": "code",
   "execution_count": 30,
   "metadata": {},
   "outputs": [],
   "source": [
    "def calc_similarity(query_emb, embeddings):\n",
    "    \"\"\"\n",
    "    Input:\n",
    "        query_emb: a list representing a query embedding\n",
    "        embeddings: a matrix with rows being embedding for an object\n",
    "    Output:\n",
    "        returns a list of size number of rows of embeddings, \n",
    "        such that each element is cosine similarity of query and a row in embeddings\n",
    "    \"\"\"\n",
    "    if isinstance(embeddings, dict):\n",
    "        # change it to numpy array\n",
    "        emb_keys = list(embeddings.keys())\n",
    "        embeddings = np.array([embeddings[k] for k in emb_keys])\n",
    "    similarity = [np.dot(row, query_emb) for row in embeddings]\n",
    "    \n",
    "    # sorting values based on the similarity\n",
    "    emb_keys = [k for _, k in sorted(zip(similarity, emb_keys), reverse=True)]\n",
    "    similarity = sorted(similarity, reverse=True)\n",
    "\n",
    "    return emb_keys, similarity\n",
    "\n"
   ]
  },
  {
   "cell_type": "code",
   "execution_count": 31,
   "metadata": {},
   "outputs": [],
   "source": [
    "emb_keys, similarity = calc_similarity(embeddings['45809'], embeddings)"
   ]
  },
  {
   "cell_type": "code",
   "execution_count": null,
   "metadata": {},
   "outputs": [],
   "source": []
  }
 ],
 "metadata": {
  "kernelspec": {
   "display_name": "dsml-project-1",
   "language": "python",
   "name": "python3"
  },
  "language_info": {
   "codemirror_mode": {
    "name": "ipython",
    "version": 3
   },
   "file_extension": ".py",
   "mimetype": "text/x-python",
   "name": "python",
   "nbconvert_exporter": "python",
   "pygments_lexer": "ipython3",
   "version": "3.11.3"
  },
  "orig_nbformat": 4
 },
 "nbformat": 4,
 "nbformat_minor": 2
}
