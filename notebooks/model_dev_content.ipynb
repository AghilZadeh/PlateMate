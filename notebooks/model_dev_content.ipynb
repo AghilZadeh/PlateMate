{
 "cells": [
  {
   "cell_type": "code",
   "execution_count": 10,
   "metadata": {},
   "outputs": [],
   "source": [
    "import pandas as pd\n",
    "from matplotlib import pyplot as plt \n",
    "import numpy as np\n",
    "import re"
   ]
  },
  {
   "cell_type": "code",
   "execution_count": 11,
   "metadata": {},
   "outputs": [],
   "source": [
    "def str2list(s: str) -> list:\n",
    "    'returns a list of strings breaking the original string by \"\" '\n",
    "    return re.findall(r'\"(.*?)\"', s)"
   ]
  },
  {
   "attachments": {},
   "cell_type": "markdown",
   "metadata": {},
   "source": [
    "## Reading Data"
   ]
  },
  {
   "cell_type": "code",
   "execution_count": 42,
   "metadata": {},
   "outputs": [],
   "source": [
    "cols = ['RecipeId', 'Name',\n",
    "       'AuthorName', 'CookTime', 'PrepTime', 'TotalTime', 'DatePublished',\n",
    "       'Description', 'Images', 'RecipeCategory', 'Keywords',\n",
    "       'AggregatedRating', 'ReviewCount', 'Calories', 'FatContent',\n",
    "       'SaturatedFatContent', 'CholesterolContent', 'SodiumContent',\n",
    "       'CarbohydrateContent', 'FiberContent', 'SugarContent', 'ProteinContent',\n",
    "       'RecipeServings', 'RecipeYield', 'RecipeInstructions']\n",
    "recipes = pd.read_csv('../data/recipes_selected.csv', usecols=cols)\n"
   ]
  },
  {
   "cell_type": "code",
   "execution_count": 43,
   "metadata": {},
   "outputs": [
    {
     "data": {
      "text/plain": [
       "0       [Chicken, Poultry, Meat, Chinese, Asian, High ...\n",
       "1                        [Breads, Fruit, Oven, < 4 Hours]\n",
       "2       [Roast Beef, Meat, Kid Friendly, Potluck, Wint...\n",
       "3       [Chicken Breast, Chicken, Poultry, Corn, Veget...\n",
       "4       [Chicken, Poultry, Meat, Cajun, Kid Friendly, ...\n",
       "                              ...                        \n",
       "9794              [Vegetable, Meat, Weeknight, < 4 Hours]\n",
       "9795            [Chicken, Poultry, Vegetable, Meat, Easy]\n",
       "9796                                          [< 30 Mins]\n",
       "9797    [Poultry, Meat, Brunch, < 30 Mins, For Large G...\n",
       "9798    [Potato, Vegetable, Low Protein, Low Cholester...\n",
       "Name: Keywords, Length: 9799, dtype: object"
      ]
     },
     "execution_count": 43,
     "metadata": {},
     "output_type": "execute_result"
    }
   ],
   "source": [
    "recipes['Keywords'].map(str2list)\n",
    "#recipes['Keywords_list']"
   ]
  },
  {
   "attachments": {},
   "cell_type": "markdown",
   "metadata": {},
   "source": [
    "## Constructing base model"
   ]
  }
 ],
 "metadata": {
  "kernelspec": {
   "display_name": "dsml-project-1",
   "language": "python",
   "name": "python3"
  },
  "language_info": {
   "codemirror_mode": {
    "name": "ipython",
    "version": 3
   },
   "file_extension": ".py",
   "mimetype": "text/x-python",
   "name": "python",
   "nbconvert_exporter": "python",
   "pygments_lexer": "ipython3",
   "version": "3.11.3"
  },
  "orig_nbformat": 4
 },
 "nbformat": 4,
 "nbformat_minor": 2
}
