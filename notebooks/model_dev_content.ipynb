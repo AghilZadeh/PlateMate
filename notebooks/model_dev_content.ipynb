{
 "cells": [
  {
   "cell_type": "code",
   "execution_count": 10,
   "metadata": {},
   "outputs": [],
   "source": [
    "import pandas as pd\n",
    "from matplotlib import pyplot as plt \n",
    "import numpy as np\n",
    "import re"
   ]
  },
  {
   "cell_type": "code",
   "execution_count": 79,
   "metadata": {},
   "outputs": [],
   "source": [
    "def str2list(s: str) -> list:\n",
    "    'returns a list of strings breaking the original string by \"\" '\n",
    "    return re.findall(r'\"(.*?)\"', s)\n",
    "\n",
    "def str2url(s: str) -> str:\n",
    "    'returns a list of strings breaking the original string by \"\" '\n",
    "    return re.search(r'\"(.*?)\"', s).group(0)[1:-1]"
   ]
  },
  {
   "attachments": {},
   "cell_type": "markdown",
   "metadata": {},
   "source": [
    "## Reading Data"
   ]
  },
  {
   "cell_type": "code",
   "execution_count": 42,
   "metadata": {},
   "outputs": [],
   "source": [
    "cols = ['RecipeId', 'Name',\n",
    "       'AuthorName', 'CookTime', 'PrepTime', 'TotalTime', 'DatePublished',\n",
    "       'Description', 'Images', 'RecipeCategory', 'Keywords',\n",
    "       'AggregatedRating', 'ReviewCount', 'Calories', 'FatContent',\n",
    "       'SaturatedFatContent', 'CholesterolContent', 'SodiumContent',\n",
    "       'CarbohydrateContent', 'FiberContent', 'SugarContent', 'ProteinContent',\n",
    "       'RecipeServings', 'RecipeYield', 'RecipeInstructions']\n",
    "recipes = pd.read_csv('../data/recipes_selected.csv', usecols=cols)\n"
   ]
  },
  {
   "cell_type": "code",
   "execution_count": 108,
   "metadata": {},
   "outputs": [
    {
     "ename": "AttributeError",
     "evalue": "'NoneType' object has no attribute 'group'",
     "output_type": "error",
     "traceback": [
      "\u001b[0;31m---------------------------------------------------------------------------\u001b[0m",
      "\u001b[0;31mAttributeError\u001b[0m                            Traceback (most recent call last)",
      "Cell \u001b[0;32mIn[108], line 3\u001b[0m\n\u001b[1;32m      1\u001b[0m \u001b[39m#recipes['Keywords_list'] = recipes['Keywords'].map(str2list)\u001b[39;00m\n\u001b[1;32m      2\u001b[0m \u001b[39m#recipes['ImagesUrl'] = recipes['Images'].map(str2url)\u001b[39;00m\n\u001b[0;32m----> 3\u001b[0m recipes\u001b[39m.\u001b[39;49mloc[\u001b[39m1520\u001b[39;49m:\u001b[39m4000\u001b[39;49m, \u001b[39m'\u001b[39;49m\u001b[39mImages\u001b[39;49m\u001b[39m'\u001b[39;49m]\u001b[39m.\u001b[39;49mmap(str2url)\n",
      "File \u001b[0;32m~/anaconda3/envs/dsml-project-1/lib/python3.11/site-packages/pandas/core/series.py:4393\u001b[0m, in \u001b[0;36mSeries.map\u001b[0;34m(self, arg, na_action)\u001b[0m\n\u001b[1;32m   4314\u001b[0m \u001b[39mdef\u001b[39;00m \u001b[39mmap\u001b[39m(\n\u001b[1;32m   4315\u001b[0m     \u001b[39mself\u001b[39m,\n\u001b[1;32m   4316\u001b[0m     arg: Callable \u001b[39m|\u001b[39m Mapping \u001b[39m|\u001b[39m Series,\n\u001b[1;32m   4317\u001b[0m     na_action: Literal[\u001b[39m\"\u001b[39m\u001b[39mignore\u001b[39m\u001b[39m\"\u001b[39m] \u001b[39m|\u001b[39m \u001b[39mNone\u001b[39;00m \u001b[39m=\u001b[39m \u001b[39mNone\u001b[39;00m,\n\u001b[1;32m   4318\u001b[0m ) \u001b[39m-\u001b[39m\u001b[39m>\u001b[39m Series:\n\u001b[1;32m   4319\u001b[0m \u001b[39m    \u001b[39m\u001b[39m\"\"\"\u001b[39;00m\n\u001b[1;32m   4320\u001b[0m \u001b[39m    Map values of Series according to an input mapping or function.\u001b[39;00m\n\u001b[1;32m   4321\u001b[0m \n\u001b[0;32m   (...)\u001b[0m\n\u001b[1;32m   4391\u001b[0m \u001b[39m    dtype: object\u001b[39;00m\n\u001b[1;32m   4392\u001b[0m \u001b[39m    \"\"\"\u001b[39;00m\n\u001b[0;32m-> 4393\u001b[0m     new_values \u001b[39m=\u001b[39m \u001b[39mself\u001b[39;49m\u001b[39m.\u001b[39;49m_map_values(arg, na_action\u001b[39m=\u001b[39;49mna_action)\n\u001b[1;32m   4394\u001b[0m     \u001b[39mreturn\u001b[39;00m \u001b[39mself\u001b[39m\u001b[39m.\u001b[39m_constructor(new_values, index\u001b[39m=\u001b[39m\u001b[39mself\u001b[39m\u001b[39m.\u001b[39mindex, copy\u001b[39m=\u001b[39m\u001b[39mFalse\u001b[39;00m)\u001b[39m.\u001b[39m__finalize__(\n\u001b[1;32m   4395\u001b[0m         \u001b[39mself\u001b[39m, method\u001b[39m=\u001b[39m\u001b[39m\"\u001b[39m\u001b[39mmap\u001b[39m\u001b[39m\"\u001b[39m\n\u001b[1;32m   4396\u001b[0m     )\n",
      "File \u001b[0;32m~/anaconda3/envs/dsml-project-1/lib/python3.11/site-packages/pandas/core/base.py:924\u001b[0m, in \u001b[0;36mIndexOpsMixin._map_values\u001b[0;34m(self, mapper, na_action)\u001b[0m\n\u001b[1;32m    921\u001b[0m         \u001b[39mraise\u001b[39;00m \u001b[39mValueError\u001b[39;00m(msg)\n\u001b[1;32m    923\u001b[0m \u001b[39m# mapper is a function\u001b[39;00m\n\u001b[0;32m--> 924\u001b[0m new_values \u001b[39m=\u001b[39m map_f(values, mapper)\n\u001b[1;32m    926\u001b[0m \u001b[39mreturn\u001b[39;00m new_values\n",
      "File \u001b[0;32m~/anaconda3/envs/dsml-project-1/lib/python3.11/site-packages/pandas/_libs/lib.pyx:2834\u001b[0m, in \u001b[0;36mpandas._libs.lib.map_infer\u001b[0;34m()\u001b[0m\n",
      "Cell \u001b[0;32mIn[79], line 7\u001b[0m, in \u001b[0;36mstr2url\u001b[0;34m(s)\u001b[0m\n\u001b[1;32m      5\u001b[0m \u001b[39mdef\u001b[39;00m \u001b[39mstr2url\u001b[39m(s: \u001b[39mstr\u001b[39m) \u001b[39m-\u001b[39m\u001b[39m>\u001b[39m \u001b[39mstr\u001b[39m:\n\u001b[1;32m      6\u001b[0m     \u001b[39m'\u001b[39m\u001b[39mreturns a list of strings breaking the original string by \u001b[39m\u001b[39m\"\u001b[39m\u001b[39m\"\u001b[39m\u001b[39m \u001b[39m\u001b[39m'\u001b[39m\n\u001b[0;32m----> 7\u001b[0m     \u001b[39mreturn\u001b[39;00m re\u001b[39m.\u001b[39;49msearch(\u001b[39mr\u001b[39;49m\u001b[39m'\u001b[39;49m\u001b[39m\"\u001b[39;49m\u001b[39m(.*?)\u001b[39;49m\u001b[39m\"\u001b[39;49m\u001b[39m'\u001b[39;49m, s)\u001b[39m.\u001b[39;49mgroup(\u001b[39m0\u001b[39m)[\u001b[39m1\u001b[39m:\u001b[39m-\u001b[39m\u001b[39m1\u001b[39m]\n",
      "\u001b[0;31mAttributeError\u001b[0m: 'NoneType' object has no attribute 'group'"
     ]
    }
   ],
   "source": [
    "#recipes['Keywords_list'] = recipes['Keywords'].map(str2list)\n",
    "#recipes['ImagesUrl'] = recipes['Images'].map(str2url)\n",
    "recipes.loc[1520:4000, 'Images'].map(str2url)"
   ]
  },
  {
   "cell_type": "code",
   "execution_count": 113,
   "metadata": {},
   "outputs": [
    {
     "data": {
      "text/plain": [
       "356"
      ]
     },
     "execution_count": 113,
     "metadata": {},
     "output_type": "execute_result"
    }
   ],
   "source": [
    "recipe_ids = []\n",
    "for ind in range(len(recipes)):\n",
    "    recipe = recipes.loc[ind]\n",
    "    if re.search(r'\"(.*?)\"', recipe['Images'])==None:\n",
    "        recipe_ids.append(recipe['RecipeId'])\n",
    "\n",
    "len(recipe_ids)"
   ]
  },
  {
   "cell_type": "code",
   "execution_count": 110,
   "metadata": {},
   "outputs": [
    {
     "data": {
      "text/plain": [
       "'RecipeId'"
      ]
     },
     "execution_count": 110,
     "metadata": {},
     "output_type": "execute_result"
    }
   ],
   "source": [
    "recipe"
   ]
  },
  {
   "cell_type": "code",
   "execution_count": 48,
   "metadata": {},
   "outputs": [],
   "source": [
    "import urllib.request\n",
    "from PIL import Image\n",
    "\n",
    "url_list = str2list(recipes.loc[0, 'Images'])\n",
    "\n",
    "  \n",
    "urllib.request.urlretrieve(url_list[1], \"im.jpg\")\n",
    "  \n",
    "img = Image.open(\"im.jpg\")\n",
    "img.show()"
   ]
  },
  {
   "cell_type": "code",
   "execution_count": 49,
   "metadata": {},
   "outputs": [
    {
     "data": {
      "text/plain": [
       "RecipeId                                                           45809\n",
       "Name                                                     Bourbon Chicken\n",
       "AuthorName                                                      LinMarie\n",
       "CookTime                                                           PT20M\n",
       "PrepTime                                                           PT15M\n",
       "TotalTime                                                          PT35M\n",
       "DatePublished                                       2002-11-12T20:13:00Z\n",
       "Description            I searched and finally found this recipe on th...\n",
       "Images                 c(\"https://img.sndimg.com/food/image/upload/w_...\n",
       "RecipeCategory                                            Chicken Breast\n",
       "Keywords               c(\"Chicken\", \"Poultry\", \"Meat\", \"Chinese\", \"As...\n",
       "AggregatedRating                                                     5.0\n",
       "ReviewCount                                                       3063.0\n",
       "Calories                                                           521.4\n",
       "FatContent                                                          24.5\n",
       "SaturatedFatContent                                                  6.5\n",
       "CholesterolContent                                                 145.3\n",
       "SodiumContent                                                     1573.0\n",
       "CarbohydrateContent                                                 23.4\n",
       "FiberContent                                                         0.3\n",
       "SugarContent                                                        21.5\n",
       "ProteinContent                                                      50.1\n",
       "RecipeServings                                                       4.0\n",
       "RecipeYield                                                          NaN\n",
       "RecipeInstructions     c(\"Editor's Note:  Named Bourbon Chicken becau...\n",
       "Name: 0, dtype: object"
      ]
     },
     "execution_count": 49,
     "metadata": {},
     "output_type": "execute_result"
    }
   ],
   "source": [
    "recipes.loc[0]"
   ]
  },
  {
   "attachments": {},
   "cell_type": "markdown",
   "metadata": {},
   "source": [
    "## Constructing base model"
   ]
  }
 ],
 "metadata": {
  "kernelspec": {
   "display_name": "dsml-project-1",
   "language": "python",
   "name": "python3"
  },
  "language_info": {
   "codemirror_mode": {
    "name": "ipython",
    "version": 3
   },
   "file_extension": ".py",
   "mimetype": "text/x-python",
   "name": "python",
   "nbconvert_exporter": "python",
   "pygments_lexer": "ipython3",
   "version": "3.11.3"
  },
  "orig_nbformat": 4
 },
 "nbformat": 4,
 "nbformat_minor": 2
}
