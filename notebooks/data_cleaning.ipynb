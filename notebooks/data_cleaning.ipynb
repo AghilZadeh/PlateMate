{
 "cells": [
  {
   "attachments": {},
   "cell_type": "markdown",
   "metadata": {},
   "source": [
    "# Data Cleaning\n"
   ]
  },
  {
   "cell_type": "code",
   "execution_count": 1,
   "metadata": {},
   "outputs": [],
   "source": [
    "import pandas as pd\n",
    "from matplotlib import pyplot as plt \n",
    "import numpy as np"
   ]
  },
  {
   "attachments": {},
   "cell_type": "markdown",
   "metadata": {},
   "source": [
    "First, we load required data from reviews, and remove rows based on several criteria. "
   ]
  },
  {
   "cell_type": "code",
   "execution_count": 3,
   "metadata": {},
   "outputs": [
    {
     "name": "stdout",
     "output_type": "stream",
     "text": [
      "number of selected reviews: 978879\n",
      "number of selected reviewers: 14544\n",
      "number of selected recipes: 238699\n"
     ]
    }
   ],
   "source": [
    "# choosing only the columns that are needed. The column 'Review' contains the text that makes the dataframe heavy. So it is dropped.\n",
    "reviews = pd.read_csv('../data/reviews.csv', usecols=['AuthorId', 'ReviewId', 'RecipeId', 'Rating'])\n",
    "# Data analysis shows 'Rating'=0 is not neccesarily bad rating \n",
    "# (Refer to https://www.kaggle.com/code/gemmin/sentiment-analysis)\n",
    "# Removing 0 ratings\n",
    "reviews = reviews[reviews['Rating']!=0]\n",
    "# Only reviews by active reviewers (selected_authors) are accepted, as the model will be based on active reviewers.\n",
    "# Active reviewer is whoever has more than a minimum number of reviews in the data\n",
    "review_counts = reviews.groupby('AuthorId').count()\n",
    "selected_authors = review_counts.loc[review_counts['ReviewId']>=10].index.values\n",
    "reviews = reviews.loc[reviews['AuthorId'].isin(selected_authors)]\n",
    "\n",
    "print('number of selected reviews:', reviews['ReviewId'].nunique())\n",
    "print('number of selected reviewers:', reviews['AuthorId'].nunique())\n",
    "print('number of selected recipes:', reviews['RecipeId'].nunique())\n",
    " "
   ]
  },
  {
   "attachments": {},
   "cell_type": "markdown",
   "metadata": {},
   "source": [
    "Now the ratings are normalized based on the reviewer ratings statistics\n"
   ]
  },
  {
   "cell_type": "code",
   "execution_count": 20,
   "metadata": {},
   "outputs": [
    {
     "data": {
      "text/html": [
       "<div>\n",
       "<style scoped>\n",
       "    .dataframe tbody tr th:only-of-type {\n",
       "        vertical-align: middle;\n",
       "    }\n",
       "\n",
       "    .dataframe tbody tr th {\n",
       "        vertical-align: top;\n",
       "    }\n",
       "\n",
       "    .dataframe thead th {\n",
       "        text-align: right;\n",
       "    }\n",
       "</style>\n",
       "<table border=\"1\" class=\"dataframe\">\n",
       "  <thead>\n",
       "    <tr style=\"text-align: right;\">\n",
       "      <th></th>\n",
       "      <th>ReviewId</th>\n",
       "      <th>RecipeId</th>\n",
       "      <th>AuthorId</th>\n",
       "      <th>Rating</th>\n",
       "    </tr>\n",
       "  </thead>\n",
       "  <tbody>\n",
       "    <tr>\n",
       "      <th>count</th>\n",
       "      <td>9.788790e+05</td>\n",
       "      <td>978879.000000</td>\n",
       "      <td>9.788790e+05</td>\n",
       "      <td>9.433290e+05</td>\n",
       "    </tr>\n",
       "    <tr>\n",
       "      <th>mean</th>\n",
       "      <td>7.080768e+05</td>\n",
       "      <td>153753.910811</td>\n",
       "      <td>1.264780e+07</td>\n",
       "      <td>1.108753e-17</td>\n",
       "    </tr>\n",
       "    <tr>\n",
       "      <th>std</th>\n",
       "      <td>4.470185e+05</td>\n",
       "      <td>128094.099809</td>\n",
       "      <td>1.541074e+08</td>\n",
       "      <td>9.931838e-01</td>\n",
       "    </tr>\n",
       "    <tr>\n",
       "      <th>min</th>\n",
       "      <td>7.000000e+00</td>\n",
       "      <td>38.000000</td>\n",
       "      <td>1.533000e+03</td>\n",
       "      <td>-3.465545e+01</td>\n",
       "    </tr>\n",
       "    <tr>\n",
       "      <th>25%</th>\n",
       "      <td>3.264205e+05</td>\n",
       "      <td>49047.000000</td>\n",
       "      <td>1.029370e+05</td>\n",
       "      <td>1.066013e-01</td>\n",
       "    </tr>\n",
       "    <tr>\n",
       "      <th>50%</th>\n",
       "      <td>6.674580e+05</td>\n",
       "      <td>112362.000000</td>\n",
       "      <td>2.275860e+05</td>\n",
       "      <td>3.495521e-01</td>\n",
       "    </tr>\n",
       "    <tr>\n",
       "      <th>75%</th>\n",
       "      <td>1.072974e+06</td>\n",
       "      <td>233848.000000</td>\n",
       "      <td>4.650560e+05</td>\n",
       "      <td>5.175935e-01</td>\n",
       "    </tr>\n",
       "    <tr>\n",
       "      <th>max</th>\n",
       "      <td>2.090332e+06</td>\n",
       "      <td>541030.000000</td>\n",
       "      <td>2.002872e+09</td>\n",
       "      <td>3.015113e+00</td>\n",
       "    </tr>\n",
       "  </tbody>\n",
       "</table>\n",
       "</div>"
      ],
      "text/plain": [
       "           ReviewId       RecipeId      AuthorId        Rating\n",
       "count  9.788790e+05  978879.000000  9.788790e+05  9.433290e+05\n",
       "mean   7.080768e+05  153753.910811  1.264780e+07  1.108753e-17\n",
       "std    4.470185e+05  128094.099809  1.541074e+08  9.931838e-01\n",
       "min    7.000000e+00      38.000000  1.533000e+03 -3.465545e+01\n",
       "25%    3.264205e+05   49047.000000  1.029370e+05  1.066013e-01\n",
       "50%    6.674580e+05  112362.000000  2.275860e+05  3.495521e-01\n",
       "75%    1.072974e+06  233848.000000  4.650560e+05  5.175935e-01\n",
       "max    2.090332e+06  541030.000000  2.002872e+09  3.015113e+00"
      ]
     },
     "execution_count": 20,
     "metadata": {},
     "output_type": "execute_result"
    }
   ],
   "source": [
    "# substracting mean of reviewer's ratings\n",
    "reviews['Rating'] -= reviews.groupby('AuthorId')['Rating'].transform(np.mean)\n",
    "# deviding by std of reviewer's ratings\n",
    "reviews['Rating'] /= reviews.groupby('AuthorId')['Rating'].transform(np.std)\n",
    "reviews.describe()"
   ]
  },
  {
   "cell_type": "code",
   "execution_count": null,
   "metadata": {},
   "outputs": [],
   "source": []
  }
 ],
 "metadata": {
  "kernelspec": {
   "display_name": "dsml-project-1",
   "language": "python",
   "name": "python3"
  },
  "language_info": {
   "codemirror_mode": {
    "name": "ipython",
    "version": 3
   },
   "file_extension": ".py",
   "mimetype": "text/x-python",
   "name": "python",
   "nbconvert_exporter": "python",
   "pygments_lexer": "ipython3",
   "version": "3.11.3"
  },
  "orig_nbformat": 4
 },
 "nbformat": 4,
 "nbformat_minor": 2
}
