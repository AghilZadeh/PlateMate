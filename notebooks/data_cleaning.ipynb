{
 "cells": [
  {
   "attachments": {},
   "cell_type": "markdown",
   "metadata": {},
   "source": [
    "# Data Cleaning\n",
    "\n",
    "In this section, I choose a subset of reviews to be considered for downstream data modeling. \n"
   ]
  },
  {
   "cell_type": "code",
   "execution_count": 1,
   "metadata": {},
   "outputs": [],
   "source": [
    "import pandas as pd\n",
    "from matplotlib import pyplot as plt \n",
    "import numpy as np"
   ]
  },
  {
   "cell_type": "code",
   "execution_count": null,
   "metadata": {},
   "outputs": [],
   "source": [
    "# choosing only the columns that are needed. The column 'Review' contains the text that makes the dataframe heavy. So it is dropped.\n",
    "reviews = pd.read_csv('../data/reviews.csv', usecols=['AuthorId', 'ReviewId', 'RecipeId', 'Rating'])\n",
    "# Data analysis shows 'Rating'=0 is not neccesarily bad rating \n",
    "# (Refer to https://www.kaggle.com/code/gemmin/sentiment-analysis)\n",
    "# Removing 0 ratings\n",
    "reviews = reviews[reviews['Rating']!=0]\n",
    "# Only reviews by active reviewers (selected_authors) are accepted, as the model will be based on active reviewers.\n",
    "# Active reviewer is whoever has more than a minimum number of reviews in the data\n",
    "review_counts = reviews.groupby('AuthorId').count()\n",
    "selected_authors = review_counts.loc[review_counts['ReviewId']>=10].index.values\n",
    "reviews = reviews.loc[reviews['AuthorId'].isin(selected_authors)]\n",
    "\n",
    "print('number of selected reviews:', reviews['ReviewId'].nunique())\n",
    "print('number of selected reviewers:', reviews['AuthorId'].nunique())\n",
    "print('number of selected recipes:', reviews['RecipeId'].nunique())\n",
    " "
   ]
  },
  {
   "cell_type": "code",
   "execution_count": null,
   "metadata": {},
   "outputs": [],
   "source": []
  }
 ],
 "metadata": {
  "kernelspec": {
   "display_name": "dsml-project-1",
   "language": "python",
   "name": "python3"
  },
  "language_info": {
   "codemirror_mode": {
    "name": "ipython",
    "version": 3
   },
   "file_extension": ".py",
   "mimetype": "text/x-python",
   "name": "python",
   "nbconvert_exporter": "python",
   "pygments_lexer": "ipython3",
   "version": "3.11.3"
  },
  "orig_nbformat": 4
 },
 "nbformat": 4,
 "nbformat_minor": 2
}
